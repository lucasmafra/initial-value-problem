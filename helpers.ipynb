{
 "cells": [
  {
   "cell_type": "code",
   "execution_count": 3,
   "metadata": {},
   "outputs": [],
   "source": [
    "import numpy as np"
   ]
  },
  {
   "cell_type": "code",
   "execution_count": 8,
   "metadata": {},
   "outputs": [],
   "source": [
    "def gauss_seidel(A, b, x):\n",
    "    tolerance = 1e-16\n",
    "    max_iterations = 1000000\n",
    "    n = len(A)\n",
    "    xprev = [0.0 for i in range(n)]\n",
    "    for i in range(max_iterations):\n",
    "        for j in range(n):\n",
    "            xprev[j] = x[j]\n",
    "        for j in range(n):\n",
    "            summ = 0.0\n",
    "            for k in range(n):\n",
    "                if (k != j):\n",
    "                    summ = summ + A[j][k] * x[k]\n",
    "            x[j] = (b[j] - summ) / A[j][j]\n",
    "        diff1norm = 0.0\n",
    "        oldnorm = 0.0\n",
    "        for j in range(n):\n",
    "            diff1norm = diff1norm + abs(x[j] - xprev[j])\n",
    "            oldnorm = oldnorm + abs(xprev[j])  \n",
    "        if oldnorm == 0.0:\n",
    "            oldnorm = 1.0\n",
    "        norm = diff1norm / oldnorm\n",
    "        if (norm < tolerance) and i != 0:            \n",
    "            return x"
   ]
  }
 ],
 "metadata": {
  "kernelspec": {
   "display_name": "Python 3",
   "language": "python",
   "name": "python3"
  },
  "language_info": {
   "codemirror_mode": {
    "name": "ipython",
    "version": 3
   },
   "file_extension": ".py",
   "mimetype": "text/x-python",
   "name": "python",
   "nbconvert_exporter": "python",
   "pygments_lexer": "ipython3",
   "version": "3.7.1"
  }
 },
 "nbformat": 4,
 "nbformat_minor": 2
}
